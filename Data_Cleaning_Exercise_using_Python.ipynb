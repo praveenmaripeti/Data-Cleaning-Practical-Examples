{
  "nbformat": 4,
  "nbformat_minor": 0,
  "metadata": {
    "colab": {
      "name": "Data Cleaning Exercise using Python",
      "provenance": [],
      "collapsed_sections": [],
      "authorship_tag": "ABX9TyOs/PypyeZqBnISLQJFCpBd",
      "include_colab_link": true
    },
    "kernelspec": {
      "name": "python3",
      "display_name": "Python 3"
    }
  },
  "cells": [
    {
      "cell_type": "markdown",
      "metadata": {
        "id": "view-in-github",
        "colab_type": "text"
      },
      "source": [
        "<a href=\"https://colab.research.google.com/github/praveenmaripeti/Data-Cleaning-Practical-Examples/blob/master/Data_Cleaning_Exercise_using_Python.ipynb\" target=\"_parent\"><img src=\"https://colab.research.google.com/assets/colab-badge.svg\" alt=\"Open In Colab\"/></a>"
      ]
    },
    {
      "cell_type": "markdown",
      "metadata": {
        "id": "m2FNBxO_w3jd",
        "colab_type": "text"
      },
      "source": [
        "## Data cleaning #Python #Google Colaboratory\n",
        "\n",
        "\n",
        "*   Setting index\n",
        "*   Converting data types\n",
        "\n"
      ]
    },
    {
      "cell_type": "code",
      "metadata": {
        "id": "IxB9tx9Vvkep",
        "colab_type": "code",
        "colab": {
          "base_uri": "https://localhost:8080/",
          "height": 34
        },
        "outputId": "11c681b6-b216-40d2-8b0b-7d9bd70af479"
      },
      "source": [
        "from google.colab import drive\n",
        "drive.mount('/content/drive')"
      ],
      "execution_count": 17,
      "outputs": [
        {
          "output_type": "stream",
          "text": [
            "Drive already mounted at /content/drive; to attempt to forcibly remount, call drive.mount(\"/content/drive\", force_remount=True).\n"
          ],
          "name": "stdout"
        }
      ]
    },
    {
      "cell_type": "code",
      "metadata": {
        "id": "3pWnPQ3Kx1Sx",
        "colab_type": "code",
        "colab": {}
      },
      "source": [
        "import pandas as pd\n",
        "import numpy as np"
      ],
      "execution_count": 18,
      "outputs": []
    },
    {
      "cell_type": "code",
      "metadata": {
        "id": "rh4-tXjKxWSh",
        "colab_type": "code",
        "colab": {}
      },
      "source": [
        "file_path = 'drive/My Drive/'\n",
        "data = pd.read_csv(file_path + 'dataset.csv')"
      ],
      "execution_count": 19,
      "outputs": []
    },
    {
      "cell_type": "code",
      "metadata": {
        "id": "h8x-YnAYxzcB",
        "colab_type": "code",
        "colab": {
          "base_uri": "https://localhost:8080/",
          "height": 445
        },
        "outputId": "f486ceed-8c6c-4515-87c4-2428cdc50f4d"
      },
      "source": [
        "data.head()"
      ],
      "execution_count": 20,
      "outputs": [
        {
          "output_type": "execute_result",
          "data": {
            "text/html": [
              "<div>\n",
              "<style scoped>\n",
              "    .dataframe tbody tr th:only-of-type {\n",
              "        vertical-align: middle;\n",
              "    }\n",
              "\n",
              "    .dataframe tbody tr th {\n",
              "        vertical-align: top;\n",
              "    }\n",
              "\n",
              "    .dataframe thead th {\n",
              "        text-align: right;\n",
              "    }\n",
              "</style>\n",
              "<table border=\"1\" class=\"dataframe\">\n",
              "  <thead>\n",
              "    <tr style=\"text-align: right;\">\n",
              "      <th></th>\n",
              "      <th>id</th>\n",
              "      <th>Full Name</th>\n",
              "      <th>Date of Birth</th>\n",
              "      <th>email</th>\n",
              "      <th>gender</th>\n",
              "      <th>Job</th>\n",
              "      <th>Company</th>\n",
              "      <th>Country</th>\n",
              "      <th>Salary</th>\n",
              "      <th>Phone</th>\n",
              "      <th>Quote</th>\n",
              "      <th>Income</th>\n",
              "      <th>Income1</th>\n",
              "    </tr>\n",
              "  </thead>\n",
              "  <tbody>\n",
              "    <tr>\n",
              "      <th>0</th>\n",
              "      <td>1</td>\n",
              "      <td>Salim Pound</td>\n",
              "      <td>02-12-2018</td>\n",
              "      <td>spound0@spotify.com</td>\n",
              "      <td>Male</td>\n",
              "      <td>Editor</td>\n",
              "      <td>Gigashots</td>\n",
              "      <td>Israel</td>\n",
              "      <td>19QtDp5HkyuZZqwwqzYPSSLuA7MXFCwfKL</td>\n",
              "      <td>610-741-3882</td>\n",
              "      <td>Compatible discrete leverage</td>\n",
              "      <td>46476.638080</td>\n",
              "      <td>$46476.6380809961</td>\n",
              "    </tr>\n",
              "    <tr>\n",
              "      <th>1</th>\n",
              "      <td>2</td>\n",
              "      <td>Madelene Lutas</td>\n",
              "      <td>9/20/2018</td>\n",
              "      <td>mlutas1@si.edu</td>\n",
              "      <td>Female</td>\n",
              "      <td>VP Marketing</td>\n",
              "      <td>Wikivu</td>\n",
              "      <td>Mongolia</td>\n",
              "      <td>17ADLE8HiTj7m1tTbzboLDn7eiZ4TjetzZ</td>\n",
              "      <td>221-725-8860</td>\n",
              "      <td>Grass-roots real-time algorithm</td>\n",
              "      <td>54174.687950</td>\n",
              "      <td>$54174.6879482406</td>\n",
              "    </tr>\n",
              "    <tr>\n",
              "      <th>2</th>\n",
              "      <td>3</td>\n",
              "      <td>Dolli Swanbourne</td>\n",
              "      <td>11/18/2018</td>\n",
              "      <td>dswanbourne2@istockphoto.com</td>\n",
              "      <td>Female</td>\n",
              "      <td>Associate Professor</td>\n",
              "      <td>Dabfeed</td>\n",
              "      <td>Vietnam</td>\n",
              "      <td>16ThVxH72YAXWiEBeBZB1WYtXcfJMwUtoB</td>\n",
              "      <td>303-720-8280</td>\n",
              "      <td>Innovative system-worthy definition</td>\n",
              "      <td>5449.873348</td>\n",
              "      <td>$5449.87334818567</td>\n",
              "    </tr>\n",
              "    <tr>\n",
              "      <th>3</th>\n",
              "      <td>4</td>\n",
              "      <td>Graeme Croisier</td>\n",
              "      <td>9/29/2018</td>\n",
              "      <td>gcroisier3@parallels.com</td>\n",
              "      <td>Male</td>\n",
              "      <td>Mechanical Systems Engineer</td>\n",
              "      <td>Trudoo</td>\n",
              "      <td>Bosnia and Herzegovina</td>\n",
              "      <td>1JLUVwmjHvxgh53C7Afie3pWbjrYxV9Fnx</td>\n",
              "      <td>673-794-9917</td>\n",
              "      <td>Customer-focused didactic extranet</td>\n",
              "      <td>46784.630880</td>\n",
              "      <td>$46784.6308786279</td>\n",
              "    </tr>\n",
              "    <tr>\n",
              "      <th>4</th>\n",
              "      <td>5</td>\n",
              "      <td>Jillana Physic</td>\n",
              "      <td>4/19/2018</td>\n",
              "      <td>jphysic4@yellowbook.com</td>\n",
              "      <td>Female</td>\n",
              "      <td>Account Executive</td>\n",
              "      <td>Buzzshare</td>\n",
              "      <td>China</td>\n",
              "      <td>1DaEUNoAWL68pnvThSM5eBYgQMTv9mKyFG</td>\n",
              "      <td>709-146-6263</td>\n",
              "      <td>Progressive dynamic model</td>\n",
              "      <td>57486.495560</td>\n",
              "      <td>$57486.4955595568</td>\n",
              "    </tr>\n",
              "  </tbody>\n",
              "</table>\n",
              "</div>"
            ],
            "text/plain": [
              "   id         Full Name  ...        Income            Income1\n",
              "0   1       Salim Pound  ...  46476.638080  $46476.6380809961\n",
              "1   2    Madelene Lutas  ...  54174.687950  $54174.6879482406\n",
              "2   3  Dolli Swanbourne  ...   5449.873348  $5449.87334818567\n",
              "3   4   Graeme Croisier  ...  46784.630880  $46784.6308786279\n",
              "4   5    Jillana Physic  ...  57486.495560  $57486.4955595568\n",
              "\n",
              "[5 rows x 13 columns]"
            ]
          },
          "metadata": {
            "tags": []
          },
          "execution_count": 20
        }
      ]
    },
    {
      "cell_type": "code",
      "metadata": {
        "id": "9qRfMW7UyILj",
        "colab_type": "code",
        "colab": {
          "base_uri": "https://localhost:8080/",
          "height": 357
        },
        "outputId": "f3ec2c30-e695-4537-9d60-e7defc29e840"
      },
      "source": [
        "data.info()"
      ],
      "execution_count": 21,
      "outputs": [
        {
          "output_type": "stream",
          "text": [
            "<class 'pandas.core.frame.DataFrame'>\n",
            "RangeIndex: 1000 entries, 0 to 999\n",
            "Data columns (total 13 columns):\n",
            " #   Column         Non-Null Count  Dtype  \n",
            "---  ------         --------------  -----  \n",
            " 0   id             1000 non-null   int64  \n",
            " 1   Full Name      1000 non-null   object \n",
            " 2   Date of Birth  1000 non-null   object \n",
            " 3   email          1000 non-null   object \n",
            " 4   gender         1000 non-null   object \n",
            " 5   Job            1000 non-null   object \n",
            " 6   Company        1000 non-null   object \n",
            " 7   Country        998 non-null    object \n",
            " 8   Salary         1000 non-null   object \n",
            " 9   Phone          1000 non-null   object \n",
            " 10  Quote          1000 non-null   object \n",
            " 11  Income         995 non-null    float64\n",
            " 12  Income1        1000 non-null   object \n",
            "dtypes: float64(1), int64(1), object(11)\n",
            "memory usage: 101.7+ KB\n"
          ],
          "name": "stdout"
        }
      ]
    },
    {
      "cell_type": "code",
      "metadata": {
        "id": "V_87yqAG9Nm1",
        "colab_type": "code",
        "colab": {
          "base_uri": "https://localhost:8080/",
          "height": 34
        },
        "outputId": "35c9a5d2-b560-4c64-f726-6c3d03277111"
      },
      "source": [
        "data.id.is_unique"
      ],
      "execution_count": 22,
      "outputs": [
        {
          "output_type": "execute_result",
          "data": {
            "text/plain": [
              "True"
            ]
          },
          "metadata": {
            "tags": []
          },
          "execution_count": 22
        }
      ]
    },
    {
      "cell_type": "markdown",
      "metadata": {
        "id": "piov0RhvyRGB",
        "colab_type": "text"
      },
      "source": [
        "\n",
        "*   Only a few data points are missing in Country and Income columns; other columns have no missing data\n",
        "*   Data type of most of the columns is object - it has to be converted to appropriate dtype in some columns such as Date of birth, Salary etc\n",
        "*   id is unique to each row, hence it can be used as index\n",
        "\n",
        "\n",
        "\n",
        "\n"
      ]
    },
    {
      "cell_type": "code",
      "metadata": {
        "id": "qS6uEL60yOA3",
        "colab_type": "code",
        "colab": {}
      },
      "source": [
        "data.columns = data.columns.str.lower()\n",
        "data.columns = data.columns.str.replace(' ', '_')  \n",
        "data.set_index('id', inplace=True)"
      ],
      "execution_count": 23,
      "outputs": []
    },
    {
      "cell_type": "code",
      "metadata": {
        "id": "2C5x7e0X0Ro6",
        "colab_type": "code",
        "colab": {}
      },
      "source": [
        "data['date_of_birth'] = pd.to_datetime(data['date_of_birth'], infer_datetime_format=True)"
      ],
      "execution_count": 24,
      "outputs": []
    },
    {
      "cell_type": "code",
      "metadata": {
        "id": "LsATx7v9_cME",
        "colab_type": "code",
        "colab": {
          "base_uri": "https://localhost:8080/",
          "height": 34
        },
        "outputId": "e6ae1d3a-b225-4fa4-d5f9-0b956e41470b"
      },
      "source": [
        "cache = []\n",
        "for i in range(data.shape[0]):\n",
        "  l = len(data.loc[i+1, 'full_name'].split())\n",
        "  cache.append(l)\n",
        "set(cache)"
      ],
      "execution_count": 25,
      "outputs": [
        {
          "output_type": "execute_result",
          "data": {
            "text/plain": [
              "{2, 3, 4}"
            ]
          },
          "metadata": {
            "tags": []
          },
          "execution_count": 25
        }
      ]
    },
    {
      "cell_type": "markdown",
      "metadata": {
        "id": "GRRuNj5O_EJR",
        "colab_type": "text"
      },
      "source": [
        "\n",
        "*   Names have 2, 3 or 4 parts, hence it is not wise to split full name into first and last names \n",
        "\n",
        "*   \n",
        "Columns 'income' and 'income1' both seem to contain same values; if so remove one column\n",
        "\n",
        " \n"
      ]
    },
    {
      "cell_type": "code",
      "metadata": {
        "id": "wBdENt-600kY",
        "colab_type": "code",
        "colab": {}
      },
      "source": [
        "data['income1'] = data['income1'].str.replace('$', '0')\n",
        "data['income1'] = data['income1'].astype(np.float64)\n",
        "data['income'] = data['income'].apply(lambda x: round(x, 3))\n",
        "data['income1'] = data['income1'].apply(lambda x: round(x, 3))"
      ],
      "execution_count": 26,
      "outputs": []
    },
    {
      "cell_type": "code",
      "metadata": {
        "id": "WJNmubl7EZcr",
        "colab_type": "code",
        "colab": {
          "base_uri": "https://localhost:8080/",
          "height": 238
        },
        "outputId": "c11130a3-860a-4c93-a2e0-9e7c058768a2"
      },
      "source": [
        "data['income1'] == data['income']"
      ],
      "execution_count": 27,
      "outputs": [
        {
          "output_type": "execute_result",
          "data": {
            "text/plain": [
              "id\n",
              "1       True\n",
              "2       True\n",
              "3       True\n",
              "4       True\n",
              "5       True\n",
              "        ... \n",
              "996     True\n",
              "997     True\n",
              "998     True\n",
              "999     True\n",
              "1000    True\n",
              "Length: 1000, dtype: bool"
            ]
          },
          "metadata": {
            "tags": []
          },
          "execution_count": 27
        }
      ]
    },
    {
      "cell_type": "code",
      "metadata": {
        "id": "c5qFwHESFClC",
        "colab_type": "code",
        "colab": {
          "base_uri": "https://localhost:8080/",
          "height": 459
        },
        "outputId": "4adbbb66-c9f3-4b9c-e934-a531c4b2f4ce"
      },
      "source": [
        "data.head()"
      ],
      "execution_count": 28,
      "outputs": [
        {
          "output_type": "execute_result",
          "data": {
            "text/html": [
              "<div>\n",
              "<style scoped>\n",
              "    .dataframe tbody tr th:only-of-type {\n",
              "        vertical-align: middle;\n",
              "    }\n",
              "\n",
              "    .dataframe tbody tr th {\n",
              "        vertical-align: top;\n",
              "    }\n",
              "\n",
              "    .dataframe thead th {\n",
              "        text-align: right;\n",
              "    }\n",
              "</style>\n",
              "<table border=\"1\" class=\"dataframe\">\n",
              "  <thead>\n",
              "    <tr style=\"text-align: right;\">\n",
              "      <th></th>\n",
              "      <th>full_name</th>\n",
              "      <th>date_of_birth</th>\n",
              "      <th>email</th>\n",
              "      <th>gender</th>\n",
              "      <th>job</th>\n",
              "      <th>company</th>\n",
              "      <th>country</th>\n",
              "      <th>salary</th>\n",
              "      <th>phone</th>\n",
              "      <th>quote</th>\n",
              "      <th>income</th>\n",
              "      <th>income1</th>\n",
              "    </tr>\n",
              "    <tr>\n",
              "      <th>id</th>\n",
              "      <th></th>\n",
              "      <th></th>\n",
              "      <th></th>\n",
              "      <th></th>\n",
              "      <th></th>\n",
              "      <th></th>\n",
              "      <th></th>\n",
              "      <th></th>\n",
              "      <th></th>\n",
              "      <th></th>\n",
              "      <th></th>\n",
              "      <th></th>\n",
              "    </tr>\n",
              "  </thead>\n",
              "  <tbody>\n",
              "    <tr>\n",
              "      <th>1</th>\n",
              "      <td>Salim Pound</td>\n",
              "      <td>2018-02-12</td>\n",
              "      <td>spound0@spotify.com</td>\n",
              "      <td>Male</td>\n",
              "      <td>Editor</td>\n",
              "      <td>Gigashots</td>\n",
              "      <td>Israel</td>\n",
              "      <td>19QtDp5HkyuZZqwwqzYPSSLuA7MXFCwfKL</td>\n",
              "      <td>610-741-3882</td>\n",
              "      <td>Compatible discrete leverage</td>\n",
              "      <td>46476.638</td>\n",
              "      <td>46476.638</td>\n",
              "    </tr>\n",
              "    <tr>\n",
              "      <th>2</th>\n",
              "      <td>Madelene Lutas</td>\n",
              "      <td>2018-09-20</td>\n",
              "      <td>mlutas1@si.edu</td>\n",
              "      <td>Female</td>\n",
              "      <td>VP Marketing</td>\n",
              "      <td>Wikivu</td>\n",
              "      <td>Mongolia</td>\n",
              "      <td>17ADLE8HiTj7m1tTbzboLDn7eiZ4TjetzZ</td>\n",
              "      <td>221-725-8860</td>\n",
              "      <td>Grass-roots real-time algorithm</td>\n",
              "      <td>54174.688</td>\n",
              "      <td>54174.688</td>\n",
              "    </tr>\n",
              "    <tr>\n",
              "      <th>3</th>\n",
              "      <td>Dolli Swanbourne</td>\n",
              "      <td>2018-11-18</td>\n",
              "      <td>dswanbourne2@istockphoto.com</td>\n",
              "      <td>Female</td>\n",
              "      <td>Associate Professor</td>\n",
              "      <td>Dabfeed</td>\n",
              "      <td>Vietnam</td>\n",
              "      <td>16ThVxH72YAXWiEBeBZB1WYtXcfJMwUtoB</td>\n",
              "      <td>303-720-8280</td>\n",
              "      <td>Innovative system-worthy definition</td>\n",
              "      <td>5449.873</td>\n",
              "      <td>5449.873</td>\n",
              "    </tr>\n",
              "    <tr>\n",
              "      <th>4</th>\n",
              "      <td>Graeme Croisier</td>\n",
              "      <td>2018-09-29</td>\n",
              "      <td>gcroisier3@parallels.com</td>\n",
              "      <td>Male</td>\n",
              "      <td>Mechanical Systems Engineer</td>\n",
              "      <td>Trudoo</td>\n",
              "      <td>Bosnia and Herzegovina</td>\n",
              "      <td>1JLUVwmjHvxgh53C7Afie3pWbjrYxV9Fnx</td>\n",
              "      <td>673-794-9917</td>\n",
              "      <td>Customer-focused didactic extranet</td>\n",
              "      <td>46784.631</td>\n",
              "      <td>46784.631</td>\n",
              "    </tr>\n",
              "    <tr>\n",
              "      <th>5</th>\n",
              "      <td>Jillana Physic</td>\n",
              "      <td>2018-04-19</td>\n",
              "      <td>jphysic4@yellowbook.com</td>\n",
              "      <td>Female</td>\n",
              "      <td>Account Executive</td>\n",
              "      <td>Buzzshare</td>\n",
              "      <td>China</td>\n",
              "      <td>1DaEUNoAWL68pnvThSM5eBYgQMTv9mKyFG</td>\n",
              "      <td>709-146-6263</td>\n",
              "      <td>Progressive dynamic model</td>\n",
              "      <td>57486.496</td>\n",
              "      <td>57486.496</td>\n",
              "    </tr>\n",
              "  </tbody>\n",
              "</table>\n",
              "</div>"
            ],
            "text/plain": [
              "           full_name date_of_birth  ...     income    income1\n",
              "id                                  ...                      \n",
              "1        Salim Pound    2018-02-12  ...  46476.638  46476.638\n",
              "2     Madelene Lutas    2018-09-20  ...  54174.688  54174.688\n",
              "3   Dolli Swanbourne    2018-11-18  ...   5449.873   5449.873\n",
              "4    Graeme Croisier    2018-09-29  ...  46784.631  46784.631\n",
              "5     Jillana Physic    2018-04-19  ...  57486.496  57486.496\n",
              "\n",
              "[5 rows x 12 columns]"
            ]
          },
          "metadata": {
            "tags": []
          },
          "execution_count": 28
        }
      ]
    },
    {
      "cell_type": "code",
      "metadata": {
        "id": "eotYli70DKMV",
        "colab_type": "code",
        "colab": {}
      },
      "source": [
        "data.drop('income1', axis=1, inplace=True)"
      ],
      "execution_count": 29,
      "outputs": []
    },
    {
      "cell_type": "code",
      "metadata": {
        "id": "AiicgsqSDYSN",
        "colab_type": "code",
        "colab": {
          "base_uri": "https://localhost:8080/",
          "height": 459
        },
        "outputId": "5866584c-6dcc-4792-fe77-5a846e3afdb2"
      },
      "source": [
        "data.head()"
      ],
      "execution_count": 30,
      "outputs": [
        {
          "output_type": "execute_result",
          "data": {
            "text/html": [
              "<div>\n",
              "<style scoped>\n",
              "    .dataframe tbody tr th:only-of-type {\n",
              "        vertical-align: middle;\n",
              "    }\n",
              "\n",
              "    .dataframe tbody tr th {\n",
              "        vertical-align: top;\n",
              "    }\n",
              "\n",
              "    .dataframe thead th {\n",
              "        text-align: right;\n",
              "    }\n",
              "</style>\n",
              "<table border=\"1\" class=\"dataframe\">\n",
              "  <thead>\n",
              "    <tr style=\"text-align: right;\">\n",
              "      <th></th>\n",
              "      <th>full_name</th>\n",
              "      <th>date_of_birth</th>\n",
              "      <th>email</th>\n",
              "      <th>gender</th>\n",
              "      <th>job</th>\n",
              "      <th>company</th>\n",
              "      <th>country</th>\n",
              "      <th>salary</th>\n",
              "      <th>phone</th>\n",
              "      <th>quote</th>\n",
              "      <th>income</th>\n",
              "    </tr>\n",
              "    <tr>\n",
              "      <th>id</th>\n",
              "      <th></th>\n",
              "      <th></th>\n",
              "      <th></th>\n",
              "      <th></th>\n",
              "      <th></th>\n",
              "      <th></th>\n",
              "      <th></th>\n",
              "      <th></th>\n",
              "      <th></th>\n",
              "      <th></th>\n",
              "      <th></th>\n",
              "    </tr>\n",
              "  </thead>\n",
              "  <tbody>\n",
              "    <tr>\n",
              "      <th>1</th>\n",
              "      <td>Salim Pound</td>\n",
              "      <td>2018-02-12</td>\n",
              "      <td>spound0@spotify.com</td>\n",
              "      <td>Male</td>\n",
              "      <td>Editor</td>\n",
              "      <td>Gigashots</td>\n",
              "      <td>Israel</td>\n",
              "      <td>19QtDp5HkyuZZqwwqzYPSSLuA7MXFCwfKL</td>\n",
              "      <td>610-741-3882</td>\n",
              "      <td>Compatible discrete leverage</td>\n",
              "      <td>46476.638</td>\n",
              "    </tr>\n",
              "    <tr>\n",
              "      <th>2</th>\n",
              "      <td>Madelene Lutas</td>\n",
              "      <td>2018-09-20</td>\n",
              "      <td>mlutas1@si.edu</td>\n",
              "      <td>Female</td>\n",
              "      <td>VP Marketing</td>\n",
              "      <td>Wikivu</td>\n",
              "      <td>Mongolia</td>\n",
              "      <td>17ADLE8HiTj7m1tTbzboLDn7eiZ4TjetzZ</td>\n",
              "      <td>221-725-8860</td>\n",
              "      <td>Grass-roots real-time algorithm</td>\n",
              "      <td>54174.688</td>\n",
              "    </tr>\n",
              "    <tr>\n",
              "      <th>3</th>\n",
              "      <td>Dolli Swanbourne</td>\n",
              "      <td>2018-11-18</td>\n",
              "      <td>dswanbourne2@istockphoto.com</td>\n",
              "      <td>Female</td>\n",
              "      <td>Associate Professor</td>\n",
              "      <td>Dabfeed</td>\n",
              "      <td>Vietnam</td>\n",
              "      <td>16ThVxH72YAXWiEBeBZB1WYtXcfJMwUtoB</td>\n",
              "      <td>303-720-8280</td>\n",
              "      <td>Innovative system-worthy definition</td>\n",
              "      <td>5449.873</td>\n",
              "    </tr>\n",
              "    <tr>\n",
              "      <th>4</th>\n",
              "      <td>Graeme Croisier</td>\n",
              "      <td>2018-09-29</td>\n",
              "      <td>gcroisier3@parallels.com</td>\n",
              "      <td>Male</td>\n",
              "      <td>Mechanical Systems Engineer</td>\n",
              "      <td>Trudoo</td>\n",
              "      <td>Bosnia and Herzegovina</td>\n",
              "      <td>1JLUVwmjHvxgh53C7Afie3pWbjrYxV9Fnx</td>\n",
              "      <td>673-794-9917</td>\n",
              "      <td>Customer-focused didactic extranet</td>\n",
              "      <td>46784.631</td>\n",
              "    </tr>\n",
              "    <tr>\n",
              "      <th>5</th>\n",
              "      <td>Jillana Physic</td>\n",
              "      <td>2018-04-19</td>\n",
              "      <td>jphysic4@yellowbook.com</td>\n",
              "      <td>Female</td>\n",
              "      <td>Account Executive</td>\n",
              "      <td>Buzzshare</td>\n",
              "      <td>China</td>\n",
              "      <td>1DaEUNoAWL68pnvThSM5eBYgQMTv9mKyFG</td>\n",
              "      <td>709-146-6263</td>\n",
              "      <td>Progressive dynamic model</td>\n",
              "      <td>57486.496</td>\n",
              "    </tr>\n",
              "  </tbody>\n",
              "</table>\n",
              "</div>"
            ],
            "text/plain": [
              "           full_name  ...     income\n",
              "id                    ...           \n",
              "1        Salim Pound  ...  46476.638\n",
              "2     Madelene Lutas  ...  54174.688\n",
              "3   Dolli Swanbourne  ...   5449.873\n",
              "4    Graeme Croisier  ...  46784.631\n",
              "5     Jillana Physic  ...  57486.496\n",
              "\n",
              "[5 rows x 11 columns]"
            ]
          },
          "metadata": {
            "tags": []
          },
          "execution_count": 30
        }
      ]
    }
  ]
}